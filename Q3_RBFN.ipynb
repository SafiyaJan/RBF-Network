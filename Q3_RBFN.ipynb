{
 "cells": [
  {
   "cell_type": "code",
   "execution_count": 1,
   "metadata": {},
   "outputs": [],
   "source": [
    "# imports \n",
    "import itertools\n",
    "import numpy as np\n",
    "import random\n",
    "import math\n",
    "import matplotlib.pyplot as plt\n",
    "from sklearn.cluster import KMeans"
   ]
  },
  {
   "cell_type": "code",
   "execution_count": 2,
   "metadata": {},
   "outputs": [],
   "source": [
    "#create data points\n",
    "def create_dataset():\n",
    "    x = [(-2 + 0.2*i) for i in range(0,21)]\n",
    "    y = [(-2 + 0.2*i) for i in range(0,21)]\n",
    "    data = np.asarray(list(itertools.product(x, y)))\n",
    "\n",
    "    #create labels\n",
    "    labels = []\n",
    "    for i in range (len(data)):\n",
    "        x_i = data[i][0]\n",
    "        x_j = data[i][1]\n",
    "        \n",
    "        if (math.pow(x_i,2) + math.pow(x_j,2)) <= 1:\n",
    "            label = 1\n",
    "        else:\n",
    "            label = -1\n",
    "            \n",
    "        labels.append(label)\n",
    "            \n",
    "    \n",
    "    labels = np.asarray(labels).reshape(len(labels),1)\n",
    "\n",
    "    return data,labels\n",
    "\n",
    "\n",
    "#split data 80:20\n",
    "def split_data(data,labels):\n",
    "    indices = list(range(data.shape[0]))\n",
    "    num_training_instances = int(0.8 * labels.shape[0])\n",
    "    \n",
    "    random.seed(1)\n",
    "    np.random.shuffle(indices)\n",
    "\n",
    "    train_indices = indices[:num_training_instances]\n",
    "    test_indices = indices[num_training_instances:]\n",
    "\n",
    "    x_data_train, y_data_train = data[train_indices],labels[train_indices]\n",
    "    x_data_test, y_data_test = data[test_indices],labels[test_indices]\n",
    "    \n",
    "    return x_data_train, y_data_train, x_data_test, y_data_test\n",
    "    \n",
    "\n",
    "\n",
    "#create matrix G and compute weights\n",
    "def train(sigma, centroids, x_data_train, y_data_train):\n",
    "\n",
    "    G_matrix = np.empty((len(x_data_train),len(centroids)), dtype=float)\n",
    "\n",
    "    for i in range(G_matrix.shape[0]):\n",
    "        for j in range(G_matrix.shape[1]):\n",
    "            distance = np.linalg.norm(x_data_train[i]-centroids[j])\n",
    "            G_matrix[i][j] = np.exp(-math.pow(distance,2)/(2*math.pow(sigma,2)))\n",
    "\n",
    "    # compute weights using pseudoinv method   \n",
    "    W = np.linalg.pinv(G_matrix).dot(y_data_train)\n",
    "    \n",
    "    return W\n",
    "\n",
    "# run testing\n",
    "def test(W, sigma, x_data_test, centroids, y_data_test):\n",
    "\n",
    "    # create g matrix\n",
    "    G_matrix_test = np.empty((len(x_data_test),len(centroids)), dtype=float)\n",
    "\n",
    "    for i in range(G_matrix_test.shape[0]):\n",
    "        for j in range(G_matrix_test.shape[1]):\n",
    "            distance = np.linalg.norm(x_data_test[i]-centroids[j])\n",
    "            G_matrix_test[i][j] = np.exp(-math.pow(distance,2)/(2*math.pow(sigma,2)))\n",
    "      \n",
    "    # return predictions\n",
    "    pred = np.dot(G_matrix_test,W)\n",
    "    \n",
    "    return pred\n",
    "\n",
    "def MSE(target,pred):\n",
    "    \n",
    "    if (len(target)!=len(pred)):\n",
    "        print(\"ERROR\")\n",
    "    \n",
    "    sum_square = 0\n",
    "    for i in range(len(target)):\n",
    "        sum_square += math.pow((target[i] - pred[i]),2)\n",
    "   \n",
    "    return 1.0 / len(target) * sum_square\n",
    "    \n",
    "\n",
    "def accuracy(y_data_test,pred):\n",
    "   \n",
    "    pred = (np.sign(pred))\n",
    "    \n",
    "    count = 0\n",
    "    for i in range(len(pred)):\n",
    "        if pred[i] == y_data_test[i]:\n",
    "            count +=1\n",
    "    #print((count/len(pred))*100)\n",
    "    \n",
    "    return ((count/len(pred))*100)\n"
   ]
  },
  {
   "cell_type": "code",
   "execution_count": 3,
   "metadata": {
    "scrolled": false
   },
   "outputs": [
    {
     "name": "stdout",
     "output_type": "stream",
     "text": [
      "Running for diff values of sigma...\n",
      "Done\n"
     ]
    }
   ],
   "source": [
    "# Testing for optimal value of sigma\n",
    "\n",
    "# create data\n",
    "data,labels = create_dataset()\n",
    "# split data\n",
    "x_data_train, y_data_train, x_data_test, y_data_test = split_data(data,labels)\n",
    "\n",
    "mse = []\n",
    "pred = []\n",
    "acc_test = []\n",
    "acc_train = []\n",
    "\n",
    "print (\"Running for diff values of sigma...\")\n",
    "for sigma in np.arange (0.01,3,0.01):\n",
    "    weights = train (sigma,x_data_train,x_data_train,y_data_train)\n",
    "    \n",
    "    #pred, mse, acc on training data\n",
    "    pred = test(weights, sigma, x_data_train,x_data_train,y_data_train)\n",
    "    mse.append(MSE(y_data_train,pred))\n",
    "    acc_train.append(accuracy(y_data_train,pred))\n",
    "    \n",
    "    #pred, acc on testing data\n",
    "    pred = test(weights, sigma, x_data_test,x_data_train,y_data_test)\n",
    "    acc_test.append(accuracy(y_data_test,pred))\n",
    "    \n",
    "print (\"Done\")\n"
   ]
  },
  {
   "cell_type": "code",
   "execution_count": 4,
   "metadata": {},
   "outputs": [
    {
     "name": "stdout",
     "output_type": "stream",
     "text": [
      "0.01\n"
     ]
    },
    {
     "data": {
      "image/png": "[encoded data removed]",
      "text/plain": [
       "<Figure size 432x288 with 1 Axes>"
      ]
     },
     "metadata": {
      "needs_background": "light"
     },
     "output_type": "display_data"
    }
   ],
   "source": [
    "x_axis = list(np.arange(0.01,3,0.01))\n",
    "plt.xlabel(\"Sigma\")\n",
    "plt.ylabel(\"MSE\")\n",
    "plt.title(\"MSE on Training Data vs Spread Parameter\")\n",
    "plt.plot(x_axis,mse)\n",
    "plt.grid()\n",
    "\n",
    "sigma = (x_axis[mse.index(min(mse))])\n",
    "print (sigma)"
   ]
  },
  {
   "cell_type": "code",
   "execution_count": 5,
   "metadata": {},
   "outputs": [
    {
     "data": {
      "image/png": "[encoded data removed]",
      "text/plain": [
       "<Figure size 432x288 with 1 Axes>"
      ]
     },
     "metadata": {
      "needs_background": "light"
     },
     "output_type": "display_data"
    }
   ],
   "source": [
    "x_axis = list(np.arange(0.01,3,0.01))\n",
    "plt.xlabel(\"Sigma\")\n",
    "plt.ylabel(\"Accuracy (%)\")\n",
    "plt.title(\"Accuracy on Training/Testing Data vs Spread Parameter\")\n",
    "plt.plot(x_axis,acc_train, label = \"Training Accuracy\")\n",
    "\n",
    "plt.plot(x_axis,acc_test, label = \"Testing Accuracy\")\n",
    "plt.legend()\n",
    "plt.grid()"
   ]
  },
  {
   "cell_type": "code",
   "execution_count": null,
   "metadata": {},
   "outputs": [],
   "source": [
    "#Question 3 - Part 1 - Using all data points as centroids\n",
    "\n",
    "sigma = 0.1\n",
    "\n",
    "# training accuracy\n",
    " \n",
    "weights = train (sigma,x_data_train,x_data_train,y_data_train)\n",
    "pred = test(weights, sigma, x_data_train,x_data_train,y_data_train)\n",
    "print (\"Using all points as a centroids, Training accuracy - \", accuracy(y_data_train,pred))\n",
    "\n",
    "# testing accuracy \n",
    "weights = train (sigma,x_data_train,x_data_train,y_data_train)\n",
    "pred = test(weights, sigma, x_data_test,x_data_train,y_data_test)\n",
    "print (\"Using all points as a centroids, Testing accuracy - \", accuracy(y_data_test,pred))\n",
    "\n",
    "\n",
    "\n",
    "\n",
    "#Question 3 - Part 2a - Using 150 Randomly chosen centroidd\n",
    "\n",
    "# chose random centers\n",
    "indices = np.random.choice(x_data_train.shape[0],150,replace=False)\n",
    "centroids = x_data_train[indices]\n",
    "\n",
    "\n",
    "# training accuracy\n",
    "weights = train (sigma,centroids,x_data_train,y_data_train)\n",
    "pred = test(weights, sigma, x_data_train,centroids,y_data_train)\n",
    "print (\"Using Random Centroids, Training Accuracy - \", accuracy(y_data_train,pred))\n",
    "\n",
    "# testing accuracy\n",
    "W = train(sigma, centroids, x_data_train, y_data_train)\n",
    "pred = test(W, sigma, x_data_test, centroids, y_data_test)\n",
    "print (\"Using Random Centroids, Testing Accuracy - \", accuracy(y_data_test,pred))\n",
    "\n",
    "\n",
    "\n",
    "\n",
    "#Question 3 - Part 2b - Using KMeans to find centroid\n",
    "\n",
    "# get centroids using k_means\n",
    "kmeans = KMeans(n_clusters=150)\n",
    "kmeans.fit(x_data_train)\n",
    "centroids = kmeans.cluster_centers_\n",
    "\n",
    "\n",
    "# training accuracy\n",
    "weights = train (sigma,centroids,x_data_train,y_data_train)\n",
    "pred = test(weights, sigma, x_data_train,centroids,y_data_train)\n",
    "print (\"Using K Means Centroids, Training Accuracy - \", accuracy(y_data_train,pred))\n",
    "\n",
    "#testing accuracy\n",
    "W = train(sigma, centroids, x_data_train, y_data_train)\n",
    "pred = test(W, sigma, x_data_test, centroids, y_data_test)\n",
    "print (\"Using K Means Centroids, Testing Accuracy - \",accuracy(y_data_test,pred))\n"
   ]
  },
  {
   "cell_type": "code",
   "execution_count": null,
   "metadata": {},
   "outputs": [],
   "source": []
  }
 ],
 "metadata": {
  "kernelspec": {
   "display_name": "Python 3",
   "language": "python",
   "name": "python3"
  },
  "language_info": {
   "codemirror_mode": {
    "name": "ipython",
    "version": 3
   },
   "file_extension": ".py",
   "mimetype": "text/x-python",
   "name": "python",
   "nbconvert_exporter": "python",
   "pygments_lexer": "ipython3",
   "version": "3.8.1"
  }
 },
 "nbformat": 4,
 "nbformat_minor": 4
}
